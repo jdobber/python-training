{
 "cells": [
  {
   "cell_type": "code",
   "execution_count": 2,
   "metadata": {
    "slideshow": {
     "slide_type": "slide"
    }
   },
   "outputs": [],
   "source": [
    "# Installieren von python-arango\n",
    "# https://github.com/joowani/python-arango"
   ]
  },
  {
   "cell_type": "code",
   "execution_count": 26,
   "metadata": {
    "scrolled": true,
    "slideshow": {
     "slide_type": "fragment"
    }
   },
   "outputs": [
    {
     "name": "stdout",
     "output_type": "stream",
     "text": [
      "Requirement already satisfied: python-arango in c:\\users\\jens\\appdata\\roaming\\python\\python36\\site-packages\n",
      "Requirement already satisfied: requests in c:\\opt\\anaconda3\\lib\\site-packages (from python-arango)\n",
      "Requirement already satisfied: six in c:\\opt\\anaconda3\\lib\\site-packages (from python-arango)\n",
      "Requirement already satisfied: chardet<3.1.0,>=3.0.2 in c:\\opt\\anaconda3\\lib\\site-packages (from requests->python-arango)\n",
      "Requirement already satisfied: idna<2.8,>=2.5 in c:\\opt\\anaconda3\\lib\\site-packages (from requests->python-arango)\n",
      "Requirement already satisfied: urllib3<1.24,>=1.21.1 in c:\\opt\\anaconda3\\lib\\site-packages (from requests->python-arango)\n",
      "Requirement already satisfied: certifi>=2017.4.17 in c:\\opt\\anaconda3\\lib\\site-packages (from requests->python-arango)\n"
     ]
    },
    {
     "name": "stderr",
     "output_type": "stream",
     "text": [
      "You are using pip version 9.0.3, however version 10.0.1 is available.\n",
      "You should consider upgrading via the 'python -m pip install --upgrade pip' command.\n"
     ]
    }
   ],
   "source": [
    "!pip install --user python-arango"
   ]
  },
  {
   "cell_type": "code",
   "execution_count": 1,
   "metadata": {
    "slideshow": {
     "slide_type": "slide"
    }
   },
   "outputs": [
    {
     "data": {
      "text/plain": [
       "<ArangoClient http://172.30.64.28:8529>"
      ]
     },
     "execution_count": 1,
     "metadata": {},
     "output_type": "execute_result"
    }
   ],
   "source": [
    "from arango import ArangoClient\n",
    "\n",
    "# Initialize the client for ArangoDB\n",
    "client = ArangoClient(\n",
    "    protocol='http',\n",
    "    host='172.30.64.28',\n",
    "    port=8529\n",
    ")\n",
    "client"
   ]
  },
  {
   "cell_type": "code",
   "execution_count": 2,
   "metadata": {
    "slideshow": {
     "slide_type": "slide"
    }
   },
   "outputs": [
    {
     "data": {
      "text/plain": [
       "<StandardCollection jens>"
      ]
     },
     "execution_count": 2,
     "metadata": {},
     "output_type": "execute_result"
    }
   ],
   "source": [
    "# get database\n",
    "db = client.db('python',username=\"python\", password=\"python\")\n",
    "# get collection\n",
    "coll = db.collection('jens')\n",
    "coll"
   ]
  },
  {
   "cell_type": "code",
   "execution_count": 3,
   "metadata": {
    "slideshow": {
     "slide_type": "slide"
    }
   },
   "outputs": [
    {
     "data": {
      "text/plain": [
       "200"
      ]
     },
     "execution_count": 3,
     "metadata": {},
     "output_type": "execute_result"
    }
   ],
   "source": [
    "import requests\n",
    "r = requests.get(\"http://www.hausgazette.org/py/data/geo.json\")\n",
    "r.status_code"
   ]
  },
  {
   "cell_type": "code",
   "execution_count": 4,
   "metadata": {
    "slideshow": {
     "slide_type": "fragment"
    }
   },
   "outputs": [
    {
     "data": {
      "text/plain": [
       "[{'title': 'Bildungsherberge', 'gps': [51.363905, 7.502385]},\n",
       " {'title': 'Fernuni', 'gps': [51.377105, 7.493587]},\n",
       " {'title': 'Pizzeria Italia', 'gps': [51.363504, 7.506455]},\n",
       " {'title': 'Hbf Hagen', 'gps': [51.362393, 7.462261]}]"
      ]
     },
     "execution_count": 4,
     "metadata": {},
     "output_type": "execute_result"
    }
   ],
   "source": [
    "docs = r.json()\n",
    "docs"
   ]
  },
  {
   "cell_type": "code",
   "execution_count": 5,
   "metadata": {
    "slideshow": {
     "slide_type": "slide"
    }
   },
   "outputs": [
    {
     "data": {
      "text/plain": [
       "{'error': False,\n",
       " 'created': 4,\n",
       " 'errors': 0,\n",
       " 'empty': 0,\n",
       " 'updated': 0,\n",
       " 'ignored': 0,\n",
       " 'details': []}"
      ]
     },
     "execution_count": 5,
     "metadata": {},
     "output_type": "execute_result"
    }
   ],
   "source": [
    "#docs = [\n",
    "#    { \"title\" : \"Bildungsherberge\", \"gps\" : [51.363905,7.502385]},\n",
    "#    { \"title\" : \"Fernuni\", \"gps\": [51.377105, 7.493587] },\n",
    "#    { \"title\" : \"Pizzeria Italia\", \"gps\" : [51.363504, 7.506455]},\n",
    "#    { \"title\" : \"Hbf Hagen\", \"gps\" : [51.362393, 7.462261]}\n",
    "#]\n",
    "coll.import_bulk(docs)"
   ]
  },
  {
   "cell_type": "code",
   "execution_count": 32,
   "metadata": {
    "slideshow": {
     "slide_type": "slide"
    }
   },
   "outputs": [
    {
     "name": "stdout",
     "output_type": "stream",
     "text": [
      "Bildungsherberge [51.363905, 7.502385]\n",
      "Fernuni [51.377105, 7.493587]\n",
      "Pizzeria Italia [51.363504, 7.506455]\n",
      "Hbf Hagen [51.362393, 7.462261]\n"
     ]
    }
   ],
   "source": [
    "for doc in coll.all():\n",
    "    print(doc[\"title\"], doc[\"gps\"])"
   ]
  },
  {
   "cell_type": "code",
   "execution_count": 10,
   "metadata": {
    "slideshow": {
     "slide_type": "slide"
    }
   },
   "outputs": [
    {
     "name": "stdout",
     "output_type": "stream",
     "text": [
      "Pizzeria Italia ist  311.40413317377073  Kilometer entfernt.\n",
      "Bildungsherberge ist  311.5561788294831  Kilometer entfernt.\n",
      "Hbf Hagen ist  312.5091601259812  Kilometer entfernt.\n",
      "Fernuni ist  313.1458630138238  Kilometer entfernt.\n"
     ]
    }
   ],
   "source": [
    "# http://python-driver-for-arangodb.readthedocs.io/en/master/classes.html#arango.collections.Collection.find_in_radiusfor doc in coll.find_in_range():\n",
    "for doc in coll.find_in_radius(48.775480, 9.174398, 400 * 1000, \"distance\"):\n",
    "    print(doc[\"title\"], \"ist \", doc[\"distance\"] / 1000, \" Kilometer entfernt.\")"
   ]
  },
  {
   "cell_type": "code",
   "execution_count": null,
   "metadata": {
    "slideshow": {
     "slide_type": "slide"
    }
   },
   "outputs": [],
   "source": []
  }
 ],
 "metadata": {
  "celltoolbar": "Slideshow",
  "kernelspec": {
   "display_name": "Python 3",
   "language": "python",
   "name": "python3"
  },
  "language_info": {
   "codemirror_mode": {
    "name": "ipython",
    "version": 3
   },
   "file_extension": ".py",
   "mimetype": "text/x-python",
   "name": "python",
   "nbconvert_exporter": "python",
   "pygments_lexer": "ipython3",
   "version": "3.6.5"
  }
 },
 "nbformat": 4,
 "nbformat_minor": 2
}
