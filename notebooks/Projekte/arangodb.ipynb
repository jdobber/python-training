{
 "cells": [
  {
   "cell_type": "code",
   "execution_count": 2,
   "metadata": {},
   "outputs": [],
   "source": [
    "# Installieren von python-arango\n",
    "# https://github.com/joowani/python-arango"
   ]
  },
  {
   "cell_type": "code",
   "execution_count": 1,
   "metadata": {},
   "outputs": [
    {
     "name": "stdout",
     "output_type": "stream",
     "text": [
      "Collecting python-arango\n",
      "  Downloading python-arango-3.12.1.tar.gz (76kB)\n",
      "Requirement already satisfied: requests in c:\\opt\\anaconda3\\lib\\site-packages (from python-arango)\n",
      "Requirement already satisfied: six in c:\\opt\\anaconda3\\lib\\site-packages (from python-arango)\n",
      "Requirement already satisfied: chardet<3.1.0,>=3.0.2 in c:\\opt\\anaconda3\\lib\\site-packages (from requests->python-arango)\n",
      "Requirement already satisfied: idna<2.7,>=2.5 in c:\\opt\\anaconda3\\lib\\site-packages (from requests->python-arango)\n",
      "Requirement already satisfied: urllib3<1.23,>=1.21.1 in c:\\opt\\anaconda3\\lib\\site-packages (from requests->python-arango)\n",
      "Requirement already satisfied: certifi>=2017.4.17 in c:\\opt\\anaconda3\\lib\\site-packages (from requests->python-arango)\n",
      "Building wheels for collected packages: python-arango\n",
      "  Running setup.py bdist_wheel for python-arango: started\n",
      "  Running setup.py bdist_wheel for python-arango: finished with status 'done'\n",
      "  Stored in directory: C:\\Users\\Jens\\AppData\\Local\\pip\\Cache\\wheels\\c5\\66\\52\\88fd4d599bdecd29369b9d46566013d8ea3e2bf73b556ddf09\n",
      "Successfully built python-arango\n",
      "Installing collected packages: python-arango\n",
      "Successfully installed python-arango-3.12.1\n"
     ]
    },
    {
     "name": "stderr",
     "output_type": "stream",
     "text": [
      "You are using pip version 9.0.1, however version 9.0.3 is available.\n",
      "You should consider upgrading via the 'python -m pip install --upgrade pip' command.\n"
     ]
    }
   ],
   "source": [
    "!pip install --user python-arango"
   ]
  },
  {
   "cell_type": "code",
   "execution_count": 11,
   "metadata": {},
   "outputs": [
    {
     "data": {
      "text/plain": [
       "<ArangoDB client for \"192.168.42.203\">"
      ]
     },
     "execution_count": 11,
     "metadata": {},
     "output_type": "execute_result"
    }
   ],
   "source": [
    "from arango import ArangoClient\n",
    "\n",
    "# Initialize the client for ArangoDB\n",
    "client = ArangoClient(\n",
    "    protocol='http',\n",
    "    host='192.168.42.203',\n",
    "    port=8529,\n",
    "    username='python',\n",
    "    password='python',\n",
    "    enable_logging=True\n",
    ")\n",
    "client"
   ]
  },
  {
   "cell_type": "code",
   "execution_count": 12,
   "metadata": {},
   "outputs": [
    {
     "data": {
      "text/plain": [
       "<ArangoDB collection \"jens\">"
      ]
     },
     "execution_count": 12,
     "metadata": {},
     "output_type": "execute_result"
    }
   ],
   "source": [
    "# get database\n",
    "db = client.db('python')\n",
    "# get collection\n",
    "coll = db.collection('jens')\n",
    "coll"
   ]
  },
  {
   "cell_type": "code",
   "execution_count": 29,
   "metadata": {},
   "outputs": [
    {
     "data": {
      "text/plain": [
       "{'created': 4,\n",
       " 'details': [],\n",
       " 'empty': 0,\n",
       " 'error': False,\n",
       " 'errors': 0,\n",
       " 'ignored': 0,\n",
       " 'updated': 0}"
      ]
     },
     "execution_count": 29,
     "metadata": {},
     "output_type": "execute_result"
    }
   ],
   "source": [
    "docs = [\n",
    "    { \"title\" : \"Bildungsherberge\", \"gps\" : [51.363905,7.502385]},\n",
    "    { \"title\" : \"Fernuni\", \"gps\": [51.377105, 7.493587] },\n",
    "    { \"title\" : \"Pizzeria Italia\", \"gps\" : [51.363504, 7.506455]},\n",
    "    { \"title\" : \"Hbf Hagen\", \"gps\" : [51.362393, 7.462261]}\n",
    "]\n",
    "coll.import_bulk(docs)"
   ]
  },
  {
   "cell_type": "code",
   "execution_count": 35,
   "metadata": {},
   "outputs": [
    {
     "name": "stdout",
     "output_type": "stream",
     "text": [
      "Fernuni [51.377105, 7.493587]\n",
      "Pizzeria Italia [51.363504, 7.506455]\n",
      "Hbf Hagen [51.362393, 7.462261]\n",
      "Bildungsherberge [51.363905, 7.502385]\n"
     ]
    }
   ],
   "source": [
    "for doc in coll.all():\n",
    "    print(doc[\"title\"], doc[\"gps\"])"
   ]
  },
  {
   "cell_type": "code",
   "execution_count": 34,
   "metadata": {},
   "outputs": [
    {
     "name": "stdout",
     "output_type": "stream",
     "text": [
      "Bildungsherberge ist  0  Meter entfernt.\n",
      "Pizzeria Italia ist  286.0654721820455  Meter entfernt.\n"
     ]
    }
   ],
   "source": [
    "# http://python-driver-for-arangodb.readthedocs.io/en/master/classes.html#arango.collections.Collection.find_in_radiusfor doc in coll.find_in_range():\n",
    "for doc in coll.find_in_radius(51.363905, 7.502385, 1 * 1000, \"distance\"):\n",
    "    print(doc[\"title\"], \"ist \", doc[\"distance\"], \" Meter entfernt.\")"
   ]
  },
  {
   "cell_type": "code",
   "execution_count": null,
   "metadata": {},
   "outputs": [],
   "source": []
  }
 ],
 "metadata": {
  "kernelspec": {
   "display_name": "Python 3",
   "language": "python",
   "name": "python3"
  },
  "language_info": {
   "codemirror_mode": {
    "name": "ipython",
    "version": 3
   },
   "file_extension": ".py",
   "mimetype": "text/x-python",
   "name": "python",
   "nbconvert_exporter": "python",
   "pygments_lexer": "ipython3",
   "version": "3.6.4"
  }
 },
 "nbformat": 4,
 "nbformat_minor": 2
}
