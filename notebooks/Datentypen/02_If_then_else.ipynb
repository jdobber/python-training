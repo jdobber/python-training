{
 "cells": [
  {
   "cell_type": "markdown",
   "metadata": {
    "slideshow": {
     "slide_type": "slide"
    }
   },
   "source": [
    "# If-then-else\n",
    "## oder Monty's kleiner Filmverleih"
   ]
  },
  {
   "cell_type": "markdown",
   "metadata": {
    "slideshow": {
     "slide_type": "fragment"
    }
   },
   "source": [
    "<div class=\"alert alert-warning\">\n",
    "**Kurze Wiederholung**\n",
    "</div>"
   ]
  },
  {
   "cell_type": "code",
   "execution_count": 20,
   "metadata": {
    "slideshow": {
     "slide_type": "fragment"
    }
   },
   "outputs": [
    {
     "data": {
      "text/plain": [
       "[]"
      ]
     },
     "execution_count": 20,
     "metadata": {},
     "output_type": "execute_result"
    }
   ],
   "source": [
    "ausgeliehen = []\n",
    "ausgeliehen"
   ]
  },
  {
   "cell_type": "code",
   "execution_count": 21,
   "metadata": {
    "slideshow": {
     "slide_type": "fragment"
    }
   },
   "outputs": [
    {
     "data": {
      "text/plain": [
       "0"
      ]
     },
     "execution_count": 21,
     "metadata": {},
     "output_type": "execute_result"
    }
   ],
   "source": [
    "len(ausgeliehen)"
   ]
  },
  {
   "cell_type": "markdown",
   "metadata": {
    "slideshow": {
     "slide_type": "slide"
    }
   },
   "source": [
    "<div class=\"alert alert-info\">\n",
    "**Problem**: Ich möchte die Meldung *Keine Filme ausgeliehen* ausgeben, wenn die Liste `ausgeliehen` leer ist.\n",
    "</div>"
   ]
  },
  {
   "cell_type": "code",
   "execution_count": 22,
   "metadata": {
    "slideshow": {
     "slide_type": "fragment"
    }
   },
   "outputs": [
    {
     "name": "stdout",
     "output_type": "stream",
     "text": [
      "Keine Filme ausgeliehen.\n"
     ]
    }
   ],
   "source": [
    "if len(ausgeliehen) == 0:\n",
    "    print(\"Keine Filme ausgeliehen.\")"
   ]
  },
  {
   "cell_type": "code",
   "execution_count": 23,
   "metadata": {
    "slideshow": {
     "slide_type": "slide"
    }
   },
   "outputs": [],
   "source": [
    "ausgeliehen = [\"Life of Brian\"]\n",
    "if len(ausgeliehen) == 0:\n",
    "    print(\"Keine Filme ausgeliehen.\")"
   ]
  },
  {
   "cell_type": "markdown",
   "metadata": {
    "slideshow": {
     "slide_type": "fragment"
    }
   },
   "source": [
    "<div class=\"alert alert-info\">\n",
    "**Problem**: Wenn Filme ausgeliehen wurden, dann möchte ich mir diese Filme angezeigen.\n",
    "</div>"
   ]
  },
  {
   "cell_type": "code",
   "execution_count": 24,
   "metadata": {
    "slideshow": {
     "slide_type": "fragment"
    }
   },
   "outputs": [
    {
     "name": "stdout",
     "output_type": "stream",
     "text": [
      "Ausgeliehende Filme: ['Life of Brian']\n"
     ]
    }
   ],
   "source": [
    "if len(ausgeliehen) == 0:\n",
    "    print(\"Keine Filme ausgeliehen.\")\n",
    "else:\n",
    "    print(\"Ausgeliehende Filme:\", ausgeliehen)"
   ]
  },
  {
   "cell_type": "markdown",
   "metadata": {
    "slideshow": {
     "slide_type": "slide"
    }
   },
   "source": [
    "Unsere verleihbaren Filme..."
   ]
  },
  {
   "cell_type": "code",
   "execution_count": 44,
   "metadata": {
    "slideshow": {
     "slide_type": "fragment"
    }
   },
   "outputs": [
    {
     "data": {
      "text/plain": [
       "['Flying Circus', 'The Meaning of Life', 'The Holy Grail']"
      ]
     },
     "execution_count": 44,
     "metadata": {},
     "output_type": "execute_result"
    }
   ],
   "source": [
    "filme = ['Flying Circus', 'The Meaning of Life', 'The Holy Grail']\n",
    "filme"
   ]
  },
  {
   "cell_type": "markdown",
   "metadata": {
    "slideshow": {
     "slide_type": "fragment"
    }
   },
   "source": [
    "Von Kunden ausgeliehende Filme.."
   ]
  },
  {
   "cell_type": "code",
   "execution_count": 45,
   "metadata": {
    "slideshow": {
     "slide_type": "fragment"
    }
   },
   "outputs": [
    {
     "data": {
      "text/plain": [
       "['Life of Brian']"
      ]
     },
     "execution_count": 45,
     "metadata": {},
     "output_type": "execute_result"
    }
   ],
   "source": [
    "ausgeliehen"
   ]
  },
  {
   "cell_type": "markdown",
   "metadata": {
    "slideshow": {
     "slide_type": "fragment"
    }
   },
   "source": [
    "Von Kunden reservierte Filme..."
   ]
  },
  {
   "cell_type": "code",
   "execution_count": 46,
   "metadata": {
    "slideshow": {
     "slide_type": "fragment"
    }
   },
   "outputs": [
    {
     "data": {
      "text/plain": [
       "[]"
      ]
     },
     "execution_count": 46,
     "metadata": {},
     "output_type": "execute_result"
    }
   ],
   "source": [
    "reserviert = []\n",
    "reserviert"
   ]
  },
  {
   "cell_type": "markdown",
   "metadata": {
    "slideshow": {
     "slide_type": "slide"
    }
   },
   "source": [
    "<div class=\"alert alert-info\">\n",
    "**Problem**: John reserviert online **The Meaning of Life**. Was müssen wir tun?\n",
    "</div>"
   ]
  },
  {
   "cell_type": "markdown",
   "metadata": {
    "slideshow": {
     "slide_type": "fragment"
    }
   },
   "source": [
    "<div class=\"alert alert-warning\">\n",
    "**Tipp**: `liste.index(elem)` sucht nach dem Element `elem` in der Liste `liste` und gibt den Index des Elements in der Liste zurück.\n",
    "</div>"
   ]
  },
  {
   "cell_type": "code",
   "execution_count": 47,
   "metadata": {
    "slideshow": {
     "slide_type": "fragment"
    }
   },
   "outputs": [
    {
     "name": "stdout",
     "output_type": "stream",
     "text": [
      "Ausleihbare Filme:  ['Flying Circus', 'The Holy Grail']\n",
      "Reservierte Filme:  ['The Meaning of Life']\n",
      "Ausgeliehende Filme:  ['Life of Brian']\n"
     ]
    }
   ],
   "source": [
    "reserviert.append( filme.pop( filme.index(\"The Meaning of Life\") ) )\n",
    "print(\"Ausleihbare Filme: \", filme)\n",
    "print(\"Reservierte Filme: \", reserviert)\n",
    "print(\"Ausgeliehende Filme: \", ausgeliehen)"
   ]
  },
  {
   "cell_type": "markdown",
   "metadata": {
    "slideshow": {
     "slide_type": "slide"
    }
   },
   "source": [
    "<div class=\"alert alert-info\">\n",
    "**Problem**: Brian will auch online den Film **The Meaning of Life** reservieren. Was müssen wir tun?\n",
    "</div>"
   ]
  },
  {
   "cell_type": "code",
   "execution_count": 48,
   "metadata": {
    "slideshow": {
     "slide_type": "fragment"
    }
   },
   "outputs": [
    {
     "ename": "ValueError",
     "evalue": "'The Meaning of Life' is not in list",
     "output_type": "error",
     "traceback": [
      "\u001b[0;31m---------------------------------------------------------------------------\u001b[0m",
      "\u001b[0;31mValueError\u001b[0m                                Traceback (most recent call last)",
      "\u001b[0;32m<ipython-input-48-d506b280e87c>\u001b[0m in \u001b[0;36m<module>\u001b[0;34m()\u001b[0m\n\u001b[0;32m----> 1\u001b[0;31m \u001b[0mreserviert\u001b[0m\u001b[0;34m.\u001b[0m\u001b[0mappend\u001b[0m\u001b[0;34m(\u001b[0m \u001b[0mfilme\u001b[0m\u001b[0;34m.\u001b[0m\u001b[0mpop\u001b[0m\u001b[0;34m(\u001b[0m \u001b[0mfilme\u001b[0m\u001b[0;34m.\u001b[0m\u001b[0mindex\u001b[0m\u001b[0;34m(\u001b[0m\u001b[0;34m\"The Meaning of Life\"\u001b[0m\u001b[0;34m)\u001b[0m \u001b[0;34m)\u001b[0m \u001b[0;34m)\u001b[0m\u001b[0;34m\u001b[0m\u001b[0m\n\u001b[0m\u001b[1;32m      2\u001b[0m \u001b[0mprint\u001b[0m\u001b[0;34m(\u001b[0m\u001b[0;34m\"Ausleihbare Filme: \"\u001b[0m\u001b[0;34m,\u001b[0m \u001b[0mfilme\u001b[0m\u001b[0;34m)\u001b[0m\u001b[0;34m\u001b[0m\u001b[0m\n\u001b[1;32m      3\u001b[0m \u001b[0mprint\u001b[0m\u001b[0;34m(\u001b[0m\u001b[0;34m\"Reservierte Filme: \"\u001b[0m\u001b[0;34m,\u001b[0m \u001b[0mreserviert\u001b[0m\u001b[0;34m)\u001b[0m\u001b[0;34m\u001b[0m\u001b[0m\n\u001b[1;32m      4\u001b[0m \u001b[0mprint\u001b[0m\u001b[0;34m(\u001b[0m\u001b[0;34m\"Ausgeliehende Filme: \"\u001b[0m\u001b[0;34m,\u001b[0m \u001b[0mausgeliehen\u001b[0m\u001b[0;34m)\u001b[0m\u001b[0;34m\u001b[0m\u001b[0m\n",
      "\u001b[0;31mValueError\u001b[0m: 'The Meaning of Life' is not in list"
     ]
    }
   ],
   "source": [
    "reserviert.append( filme.pop( filme.index(\"The Meaning of Life\") ) )\n",
    "print(\"Ausleihbare Filme: \", filme)\n",
    "print(\"Reservierte Filme: \", reserviert)\n",
    "print(\"Ausgeliehende Filme: \", ausgeliehen)"
   ]
  },
  {
   "cell_type": "markdown",
   "metadata": {
    "slideshow": {
     "slide_type": "fragment"
    }
   },
   "source": [
    "<div class=\"alert alert-danger\">\n",
    "Was ist passiert?\n",
    "</div>"
   ]
  },
  {
   "cell_type": "markdown",
   "metadata": {
    "slideshow": {
     "slide_type": "slide"
    }
   },
   "source": [
    "## Der harte Weg oder *Exception Handling*"
   ]
  },
  {
   "cell_type": "code",
   "execution_count": 50,
   "metadata": {
    "slideshow": {
     "slide_type": "fragment"
    }
   },
   "outputs": [
    {
     "name": "stdout",
     "output_type": "stream",
     "text": [
      "Pech gehabt. Der Film ist bereits reserviert.\n",
      "\n",
      "Ausleihbare Filme:  ['Flying Circus', 'The Holy Grail']\n",
      "Reservierte Filme:  ['The Meaning of Life']\n",
      "Ausgeliehende Filme:  ['Life of Brian']\n"
     ]
    }
   ],
   "source": [
    "try:\n",
    "    reserviert.append( filme.pop( filme.index(\"The Meaning of Life\") ) )\n",
    "except:\n",
    "    print(\"Pech gehabt. Der Film ist bereits reserviert.\")\n",
    "\n",
    "print()\n",
    "print(\"Ausleihbare Filme: \", filme)\n",
    "print(\"Reservierte Filme: \", reserviert)\n",
    "print(\"Ausgeliehende Filme: \", ausgeliehen)"
   ]
  },
  {
   "cell_type": "markdown",
   "metadata": {
    "slideshow": {
     "slide_type": "slide"
    }
   },
   "source": [
    "<div class=\"alert alert-info\">\n",
    "**Frage**: Können wir den Fehler auch mit `if`, `then` und `else` behandeln?\n",
    "</div>"
   ]
  },
  {
   "cell_type": "code",
   "execution_count": 52,
   "metadata": {
    "slideshow": {
     "slide_type": "fragment"
    }
   },
   "outputs": [
    {
     "name": "stdout",
     "output_type": "stream",
     "text": [
      "Pech gehabt. Der Film ist bereits reserviert.\n",
      "\n",
      "Ausleihbare Filme:  ['Flying Circus', 'The Holy Grail']\n",
      "Reservierte Filme:  ['The Meaning of Life']\n",
      "Ausgeliehende Filme:  ['Life of Brian']\n"
     ]
    }
   ],
   "source": [
    "f = \"The Meaning of Life\"\n",
    "if f in filme:\n",
    "    reserviert.append( filme.pop( filme.index(\"The Meaning of Life\") ) )\n",
    "else:\n",
    "    print(\"Pech gehabt. Der Film ist bereits reserviert.\")\n",
    "\n",
    "print()\n",
    "print(\"Ausleihbare Filme: \", filme)\n",
    "print(\"Reservierte Filme: \", reserviert)\n",
    "print(\"Ausgeliehende Filme: \", ausgeliehen)"
   ]
  },
  {
   "cell_type": "code",
   "execution_count": 53,
   "metadata": {
    "slideshow": {
     "slide_type": "fragment"
    }
   },
   "outputs": [
    {
     "data": {
      "text/plain": [
       "False"
      ]
     },
     "execution_count": 53,
     "metadata": {},
     "output_type": "execute_result"
    }
   ],
   "source": [
    "f in filme"
   ]
  },
  {
   "cell_type": "code",
   "execution_count": 54,
   "metadata": {
    "slideshow": {
     "slide_type": "fragment"
    }
   },
   "outputs": [
    {
     "data": {
      "text/plain": [
       "True"
      ]
     },
     "execution_count": 54,
     "metadata": {},
     "output_type": "execute_result"
    }
   ],
   "source": [
    "\"The Holy Grail\" in filme"
   ]
  },
  {
   "cell_type": "code",
   "execution_count": 55,
   "metadata": {
    "slideshow": {
     "slide_type": "slide"
    }
   },
   "outputs": [
    {
     "name": "stdout",
     "output_type": "stream",
     "text": [
      "Ausleihbare Filme:  ['Flying Circus', 'The Holy Grail']\n",
      "Reservierte Filme:  ['The Meaning of Life']\n",
      "Ausgeliehende Filme:  ['Life of Brian']\n"
     ]
    }
   ],
   "source": [
    "print(\"Ausleihbare Filme: \", filme)\n",
    "print(\"Reservierte Filme: \", reserviert)\n",
    "print(\"Ausgeliehende Filme: \", ausgeliehen)"
   ]
  },
  {
   "cell_type": "code",
   "execution_count": 56,
   "metadata": {
    "slideshow": {
     "slide_type": "fragment"
    }
   },
   "outputs": [
    {
     "data": {
      "text/plain": [
       "True"
      ]
     },
     "execution_count": 56,
     "metadata": {},
     "output_type": "execute_result"
    }
   ],
   "source": [
    "len(filme) > len(reserviert)"
   ]
  },
  {
   "cell_type": "code",
   "execution_count": 57,
   "metadata": {
    "slideshow": {
     "slide_type": "fragment"
    }
   },
   "outputs": [
    {
     "data": {
      "text/plain": [
       "False"
      ]
     },
     "execution_count": 57,
     "metadata": {},
     "output_type": "execute_result"
    }
   ],
   "source": [
    "len(filme) == len(reserviert)"
   ]
  },
  {
   "cell_type": "code",
   "execution_count": 58,
   "metadata": {
    "slideshow": {
     "slide_type": "fragment"
    }
   },
   "outputs": [
    {
     "data": {
      "text/plain": [
       "True"
      ]
     },
     "execution_count": 58,
     "metadata": {},
     "output_type": "execute_result"
    }
   ],
   "source": [
    "len(reserviert) == len(ausgeliehen)"
   ]
  },
  {
   "cell_type": "code",
   "execution_count": null,
   "metadata": {},
   "outputs": [],
   "source": []
  }
 ],
 "metadata": {
  "celltoolbar": "Slideshow",
  "kernelspec": {
   "display_name": "Python 3",
   "language": "python",
   "name": "python3"
  },
  "language_info": {
   "codemirror_mode": {
    "name": "ipython",
    "version": 3
   },
   "file_extension": ".py",
   "mimetype": "text/x-python",
   "name": "python",
   "nbconvert_exporter": "python",
   "pygments_lexer": "ipython3",
   "version": "3.6.3"
  }
 },
 "nbformat": 4,
 "nbformat_minor": 2
}
