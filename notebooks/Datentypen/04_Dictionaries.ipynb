{
 "cells": [
  {
   "cell_type": "markdown",
   "metadata": {
    "slideshow": {
     "slide_type": "slide"
    }
   },
   "source": [
    "# Dictionaries"
   ]
  },
  {
   "cell_type": "code",
   "execution_count": 1,
   "metadata": {
    "slideshow": {
     "slide_type": "fragment"
    }
   },
   "outputs": [
    {
     "data": {
      "text/plain": [
       "{'Flying Circus': 'ausleihbar',\n",
       " 'Life of Brian': 'ausgeliehen',\n",
       " 'The Holy Grail': 'ausleihbar',\n",
       " 'The Meaning of Life': 'reserviert'}"
      ]
     },
     "execution_count": 1,
     "metadata": {},
     "output_type": "execute_result"
    }
   ],
   "source": [
    "filmdb = {\n",
    "    'Flying Circus' : \"ausleihbar\", \n",
    "    'The Holy Grail' : \"ausleihbar\",\n",
    "    \"The Meaning of Life\": \"reserviert\",\n",
    "    'Life of Brian': \"ausgeliehen\"\n",
    "}\n",
    "filmdb"
   ]
  },
  {
   "cell_type": "code",
   "execution_count": 2,
   "metadata": {
    "slideshow": {
     "slide_type": "fragment"
    }
   },
   "outputs": [
    {
     "data": {
      "text/plain": [
       "'ausleihbar'"
      ]
     },
     "execution_count": 2,
     "metadata": {},
     "output_type": "execute_result"
    }
   ],
   "source": [
    "filmdb[\"The Holy Grail\"]"
   ]
  },
  {
   "cell_type": "markdown",
   "metadata": {
    "slideshow": {
     "slide_type": "slide"
    }
   },
   "source": [
    "**Dictionaries** bilden Schlüssel-Wert-Beziehungen (*key/value*) ab."
   ]
  },
  {
   "cell_type": "code",
   "execution_count": 3,
   "metadata": {
    "slideshow": {
     "slide_type": "fragment"
    }
   },
   "outputs": [
    {
     "data": {
      "text/plain": [
       "{'Fawlty Towers': 'in Beschaffung',\n",
       " 'Flying Circus': 'ausleihbar',\n",
       " 'Life of Brian': 'ausgeliehen',\n",
       " 'The Holy Grail': 'ausleihbar',\n",
       " 'The Meaning of Life': 'reserviert'}"
      ]
     },
     "execution_count": 3,
     "metadata": {},
     "output_type": "execute_result"
    }
   ],
   "source": [
    "filmdb[\"Fawlty Towers\"] = \"in Beschaffung\"\n",
    "filmdb"
   ]
  },
  {
   "cell_type": "code",
   "execution_count": 4,
   "metadata": {
    "slideshow": {
     "slide_type": "fragment"
    }
   },
   "outputs": [
    {
     "data": {
      "text/plain": [
       "{'Fawlty Towers': 'in Beschaffung',\n",
       " 'Flying Circus': 'ausleihbar',\n",
       " 'Life of Brian': 'ausgeliehen',\n",
       " 'The Holy Grail': 'ausleihbar',\n",
       " 'The Meaning of Life': 'ausleihbar'}"
      ]
     },
     "execution_count": 4,
     "metadata": {},
     "output_type": "execute_result"
    }
   ],
   "source": [
    "filmdb[\"The Meaning of Life\"] = \"ausleihbar\"\n",
    "filmdb"
   ]
  },
  {
   "cell_type": "markdown",
   "metadata": {
    "slideshow": {
     "slide_type": "slide"
    }
   },
   "source": [
    "Einige typische Operationen auf Dictionaries...\n",
    "\n",
    "siehe auch https://docs.python.org/3/tutorial/datastructures.html#dictionaries"
   ]
  },
  {
   "cell_type": "code",
   "execution_count": 10,
   "metadata": {
    "slideshow": {
     "slide_type": "fragment"
    }
   },
   "outputs": [
    {
     "data": {
      "text/plain": [
       "dict_keys(['Flying Circus', 'The Holy Grail', 'The Meaning of Life', 'Life of Brian', 'Fawlty Towers'])"
      ]
     },
     "execution_count": 10,
     "metadata": {},
     "output_type": "execute_result"
    }
   ],
   "source": [
    "filmdb.keys()"
   ]
  },
  {
   "cell_type": "code",
   "execution_count": 11,
   "metadata": {
    "slideshow": {
     "slide_type": "fragment"
    }
   },
   "outputs": [
    {
     "data": {
      "text/plain": [
       "{'Flying Circus': 'ausleihbar',\n",
       " 'Life of Brian': 'ausgeliehen',\n",
       " 'The Holy Grail': 'ausleihbar',\n",
       " 'The Meaning of Life': 'ausleihbar'}"
      ]
     },
     "execution_count": 11,
     "metadata": {},
     "output_type": "execute_result"
    }
   ],
   "source": [
    "del filmdb[\"Fawlty Towers\"]\n",
    "filmdb"
   ]
  },
  {
   "cell_type": "code",
   "execution_count": 12,
   "metadata": {
    "slideshow": {
     "slide_type": "fragment"
    }
   },
   "outputs": [
    {
     "ename": "KeyError",
     "evalue": "'Fawlty Towers'",
     "output_type": "error",
     "traceback": [
      "\u001b[1;31m---------------------------------------------------------------------------\u001b[0m",
      "\u001b[1;31mKeyError\u001b[0m                                  Traceback (most recent call last)",
      "\u001b[1;32m<ipython-input-12-afdf7a2ae2de>\u001b[0m in \u001b[0;36m<module>\u001b[1;34m()\u001b[0m\n\u001b[1;32m----> 1\u001b[1;33m \u001b[1;32mdel\u001b[0m \u001b[0mfilmdb\u001b[0m\u001b[1;33m[\u001b[0m\u001b[1;34m\"Fawlty Towers\"\u001b[0m\u001b[1;33m]\u001b[0m\u001b[1;33m\u001b[0m\u001b[0m\n\u001b[0m",
      "\u001b[1;31mKeyError\u001b[0m: 'Fawlty Towers'"
     ]
    }
   ],
   "source": [
    "del filmdb[\"Fawlty Towers\"]"
   ]
  },
  {
   "cell_type": "code",
   "execution_count": 8,
   "metadata": {
    "slideshow": {
     "slide_type": "slide"
    }
   },
   "outputs": [
    {
     "name": "stdout",
     "output_type": "stream",
     "text": [
      "FLYING CIRCUS :  ausleihbar\n",
      "THE HOLY GRAIL :  ausleihbar\n",
      "THE MEANING OF LIFE :  ausleihbar\n",
      "LIFE OF BRIAN :  ausgeliehen\n",
      "FAWLTY TOWERS :  in Beschaffung\n"
     ]
    }
   ],
   "source": [
    "for key in filmdb.keys():\n",
    "    print(key.upper(), \": \", filmdb[key])"
   ]
  },
  {
   "cell_type": "code",
   "execution_count": 9,
   "metadata": {
    "slideshow": {
     "slide_type": "fragment"
    }
   },
   "outputs": [
    {
     "name": "stdout",
     "output_type": "stream",
     "text": [
      "FLYING CIRCUS :  ausleihbar\n",
      "THE HOLY GRAIL :  ausleihbar\n",
      "THE MEANING OF LIFE :  ausleihbar\n",
      "LIFE OF BRIAN :  ausgeliehen\n",
      "FAWLTY TOWERS :  in Beschaffung\n"
     ]
    }
   ],
   "source": [
    "for key, value in filmdb.items():\n",
    "    print(key.upper(), \": \", value)"
   ]
  },
  {
   "cell_type": "code",
   "execution_count": null,
   "metadata": {
    "slideshow": {
     "slide_type": "slide"
    }
   },
   "outputs": [],
   "source": []
  }
 ],
 "metadata": {
  "celltoolbar": "Slideshow",
  "kernelspec": {
   "display_name": "Python 3",
   "language": "python",
   "name": "python3"
  },
  "language_info": {
   "codemirror_mode": {
    "name": "ipython",
    "version": 3
   },
   "file_extension": ".py",
   "mimetype": "text/x-python",
   "name": "python",
   "nbconvert_exporter": "python",
   "pygments_lexer": "ipython3",
   "version": "3.6.4"
  }
 },
 "nbformat": 4,
 "nbformat_minor": 2
}
